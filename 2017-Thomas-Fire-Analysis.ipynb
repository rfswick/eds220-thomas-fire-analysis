{
 "cells": [
  {
   "cell_type": "markdown",
   "id": "3282bde4-7186-4bba-9c8a-e9d9a1333cf8",
   "metadata": {},
   "source": [
    "# Using Python to Analyze the 2017 Thomas Fire \n",
    "\n",
    "## A look at impacts to land and air by the 2017 Thomas Fire in Santa Barbara County\n",
    "\n",
    "Author: Rachel Swick\n",
    "\n",
    "Published: December 4, 2024\n",
    "\n",
    "More information about this anlysis, the code behind it, and data files can be found on github at the link below.\n",
    "\n",
    "Github Link: https://github.com/rfswick/EDS220-Final-Project.git\n",
    "\n",
    "The 2017 Thomas Fire burned 281,893 acres of Santa Barbara and Ventura county, destroyed 1,063 structures, and resulted in the deaths of 1 civilian and 1 firefighter. The fire had far reaching impacts on the surrounding communities both during and after the fire eventually burned out. This analysis shows how python can be used to visualize the burn scar caused by the fire, and demonstrate how air quality was affected before, during, and after the fire. \n",
    "\n",
    "## 1. Learning Objectives\n",
    "\n",
    "- Manipulating raster data with rioxarray\n",
    "- Manipulating vector data with geopandas\n",
    "- Manipluating data to create accurate and appealing visulizations with matplotlib.pyplot\n",
    "- Creating an effective and efficent workflow\n",
    "\n",
    "## 2. About the Data\n",
    "\n",
    "Historic California Fires GeoDatabase: This dataset includes information about all recorded wildifires within the state of California that, according to CalFire, burn \"≥10 acres timber, ≥50 acres brush, ≥300 acres grass, damages or destroys three or more structures or does $300,000 worth of damage, or results in loss of life.\". Accessed: November 21, 2024\n",
    "\n",
    "Landsat Data: A simplified collection of bands (red, green, blue, near-infrared and shortwave infrared) from the Landsat Collection 2 Level-2 atmosperically corrected surface reflectance data, collected by the Landsat 8 satellite. Accessed: November 21, 2024\n",
    "\n"
   ]
  },
  {
   "cell_type": "code",
   "execution_count": null,
   "id": "bd7e005d-3b64-4525-b922-a234e627a003",
   "metadata": {},
   "outputs": [],
   "source": []
  }
 ],
 "metadata": {
  "kernelspec": {
   "display_name": "Anaconda 3 (Base)",
   "language": "python",
   "name": "base"
  },
  "language_info": {
   "codemirror_mode": {
    "name": "ipython",
    "version": 3
   },
   "file_extension": ".py",
   "mimetype": "text/x-python",
   "name": "python",
   "nbconvert_exporter": "python",
   "pygments_lexer": "ipython3",
   "version": "3.9.13"
  }
 },
 "nbformat": 4,
 "nbformat_minor": 5
}
