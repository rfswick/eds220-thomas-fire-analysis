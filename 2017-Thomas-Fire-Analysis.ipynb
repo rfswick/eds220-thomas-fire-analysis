{
 "cells": [
  {
   "cell_type": "markdown",
   "id": "3282bde4-7186-4bba-9c8a-e9d9a1333cf8",
   "metadata": {},
   "source": [
    "# Using Python to Analyze the 2017 Thomas Fire \n",
    "\n",
    "## A look at impacts to land and air by the 2017 Thomas Fire in Santa Barbara County\n",
    "\n",
    "Author: Rachel Swick\n",
    "\n",
    "Published: December 4, 2024\n",
    "\n",
    "More information about this anlysis, the code behind it, and data files can be found on github at the link below.\n",
    "\n",
    "Github Link: https://github.com/rfswick/eds220-thomas-fire-analysis.git\n",
    "\n",
    "The 2017 Thomas Fire burned 281,893 acres of Santa Barbara and Ventura county, destroyed 1,063 structures, and resulted in the deaths of 1 civilian and 1 firefighter. The fire had far reaching impacts on the surrounding communities both during and after the fire eventually burned out. This analysis shows how python can be used to visualize the burn scar caused by the fire, and demonstrate how air quality was affected before, during, and after the fire. \n",
    "\n",
    "## Learning Objectives\n",
    "\n",
    "- Manipulating raster data with rioxarray\n",
    "- Manipulating vector data with geopandas\n",
    "- Manipluating data to create accurate and appealing visulizations with matplotlib.pyplot\n",
    "- Creating an effective and efficent workflow\n",
    "\n",
    "## About the Data\n",
    "\n",
    "Historic California Fires GeoDatabase: This dataset includes information about all recorded wildifires within the state of California that, according to CalFire, burn \"≥10 acres timber, ≥50 acres brush, ≥300 acres grass, damages or destroys three or more structures or does $300,000 worth of damage, or results in loss of life.\". Accessed: November 21, 2024\n",
    "\n",
    "Landsat Data: A simplified collection of bands (red, green, blue, near-infrared and shortwave infrared) from the Landsat Collection 2 Level-2 atmosperically corrected surface reflectance data, collected by the Landsat 8 satellite. Accessed: November 21, 2024\n",
    "\n",
    "Air Quality Index (AQI) Data: Air quality index data from the US Environmental Protection Agency (EPA). "
   ]
  },
  {
   "cell_type": "markdown",
   "id": "f42c7315-20cf-4423-aac0-374643880fe4",
   "metadata": {},
   "source": [
    "## Import Libraries\n",
    "\n",
    "You will need to begin your analysis by loading relevant pythong packages."
   ]
  },
  {
   "cell_type": "code",
   "execution_count": null,
   "id": "3c26ead9-19f8-4ba4-ab6a-b5f0118445eb",
   "metadata": {
    "tags": []
   },
   "outputs": [],
   "source": [
    "# Load libraries\n",
    "import os \n",
    "import numpy as np\n",
    "import matplotlib.pyplot as plt\n",
    "import geopandas as gpd\n",
    "import rioxarray as rioxr"
   ]
  },
  {
   "cell_type": "markdown",
   "id": "9383d587-642e-4398-83c3-e9a2dd21eecf",
   "metadata": {},
   "source": [
    "## Load Data\n",
    "\n",
    "### Thomas Fire Boundary\n",
    "\n",
    "The perimeter of the Thomas Fire was aquired by filtering the Historic California Fires GeoDatabase by year and fire name. This code can be found at the github repository link above. "
   ]
  },
  {
   "cell_type": "code",
   "execution_count": null,
   "id": "7694ab93-1604-4f4a-8f8f-c3858c671724",
   "metadata": {
    "tags": []
   },
   "outputs": [],
   "source": []
  },
  {
   "cell_type": "code",
   "execution_count": null,
   "id": "50fca8a8-846b-4bde-9d04-38311f005e37",
   "metadata": {},
   "outputs": [],
   "source": []
  },
  {
   "cell_type": "code",
   "execution_count": null,
   "id": "615e0b18-ec4a-4e15-a987-4245ebddd741",
   "metadata": {},
   "outputs": [],
   "source": []
  }
 ],
 "metadata": {
  "kernelspec": {
   "display_name": "Anaconda 3 (Base)",
   "language": "python",
   "name": "base"
  },
  "language_info": {
   "codemirror_mode": {
    "name": "ipython",
    "version": 3
   },
   "file_extension": ".py",
   "mimetype": "text/x-python",
   "name": "python",
   "nbconvert_exporter": "python",
   "pygments_lexer": "ipython3",
   "version": "3.9.13"
  }
 },
 "nbformat": 4,
 "nbformat_minor": 5
}
