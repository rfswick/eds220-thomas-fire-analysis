{
 "cells": [
  {
   "cell_type": "markdown",
   "id": "89777b9d-f05b-4009-b102-cd9c3f6e1e33",
   "metadata": {},
   "source": [
    "# Task 2: Part 1\n",
    "\n",
    "# Thomas Fire Perimeter\n",
    "\n",
    "Author: Rachel Swick\n",
    "\n",
    "Github Link: https://github.com/rfswick/eds220-hwk4.git\n",
    "\n",
    "## Purpose\n",
    "\n",
    "To create a saved geometry file for the perimeter of the 2017 Thomas Fire in Santa Barbara County.\n",
    "\n",
    "## Highlights\n",
    "\n",
    "Major steps include understanding the properties of the California wildfire boundaries dataset, selecting for the Thomas Fire burn perimeter, and saving the perimeter as a shapefile in the repository's data file.\n",
    "\n",
    "## Dataset Description\n",
    "\n",
    "Historic California Fires GeoDatabase: This dataset includes information about all recorded wildifires within the state of California that, according to CalFire, burn \"≥10 acres timber, ≥50 acres brush, ≥300 acres grass, damages or destroys three or more structures or does $300,000 worth of damage, or results in loss of life.\". Accessed: November 21, 2024\n",
    "\n",
    "## References\n",
    "\n",
    "Historical Fire Perimeters. CalFire. Updated April 2023. https://www.fire.ca.gov/what-we-do/fire-resource-assessment-program/fire-perimeters \n",
    "\n",
    "## 1. Import Libraries"
   ]
  },
  {
   "cell_type": "code",
   "execution_count": 1,
   "id": "5a7e4ffd-93b2-4b36-8dcd-3732f36b0247",
   "metadata": {
    "tags": []
   },
   "outputs": [],
   "source": [
    "# Load libraries\n",
    "import os \n",
    "\n",
    "import numpy as np\n",
    "import geopandas as gpd"
   ]
  },
  {
   "cell_type": "markdown",
   "id": "33aef2f6-0c58-4cb0-9919-0369a0b57ae6",
   "metadata": {},
   "source": [
    "## 2. Import Data"
   ]
  },
  {
   "cell_type": "code",
   "execution_count": 2,
   "id": "163ac3c8-f2e8-456e-a9ea-c5657d0f0377",
   "metadata": {
    "tags": []
   },
   "outputs": [
    {
     "name": "stderr",
     "output_type": "stream",
     "text": [
      "ERROR 1: PROJ: proj_create_from_database: Open of /opt/anaconda3/share/proj failed\n"
     ]
    }
   ],
   "source": [
    "# Load historic California fire boundary data\n",
    "ca_fires = gpd.read_file(os.path.join('data', 'fire.gdb'))"
   ]
  },
  {
   "cell_type": "markdown",
   "id": "72c0d875-b32e-4958-b7bb-fa08b4ea2084",
   "metadata": {},
   "source": [
    "## 3. Data Exploration"
   ]
  },
  {
   "cell_type": "code",
   "execution_count": 3,
   "id": "ecc42aa7-f962-4369-8e79-01a2978b328e",
   "metadata": {
    "tags": []
   },
   "outputs": [
    {
     "data": {
      "text/html": [
       "<div>\n",
       "<style scoped>\n",
       "    .dataframe tbody tr th:only-of-type {\n",
       "        vertical-align: middle;\n",
       "    }\n",
       "\n",
       "    .dataframe tbody tr th {\n",
       "        vertical-align: top;\n",
       "    }\n",
       "\n",
       "    .dataframe thead th {\n",
       "        text-align: right;\n",
       "    }\n",
       "</style>\n",
       "<table border=\"1\" class=\"dataframe\">\n",
       "  <thead>\n",
       "    <tr style=\"text-align: right;\">\n",
       "      <th></th>\n",
       "      <th>YEAR_</th>\n",
       "      <th>STATE</th>\n",
       "      <th>AGENCY</th>\n",
       "      <th>UNIT_ID</th>\n",
       "      <th>FIRE_NAME</th>\n",
       "      <th>INC_NUM</th>\n",
       "      <th>IRWINID</th>\n",
       "      <th>ALARM_DATE</th>\n",
       "      <th>CONT_DATE</th>\n",
       "      <th>C_METHOD</th>\n",
       "      <th>CAUSE</th>\n",
       "      <th>OBJECTIVE</th>\n",
       "      <th>GIS_ACRES</th>\n",
       "      <th>COMPLEX_NAME</th>\n",
       "      <th>COMPLEX_ID</th>\n",
       "      <th>COMMENTS</th>\n",
       "      <th>FIRE_NUM</th>\n",
       "      <th>Shape_Length</th>\n",
       "      <th>Shape_Area</th>\n",
       "      <th>geometry</th>\n",
       "    </tr>\n",
       "  </thead>\n",
       "  <tbody>\n",
       "    <tr>\n",
       "      <th>0</th>\n",
       "      <td>2023.0</td>\n",
       "      <td>CA</td>\n",
       "      <td>CDF</td>\n",
       "      <td>SKU</td>\n",
       "      <td>WHITWORTH</td>\n",
       "      <td>00004808</td>\n",
       "      <td>{7985848C-0AC2-4BA4-8F0E-29F778652E61}</td>\n",
       "      <td>2023-06-17T00:00:00</td>\n",
       "      <td>2023-06-17T00:00:00</td>\n",
       "      <td>1.0</td>\n",
       "      <td>5.0</td>\n",
       "      <td>1.0</td>\n",
       "      <td>5.729125</td>\n",
       "      <td>None</td>\n",
       "      <td>None</td>\n",
       "      <td>None</td>\n",
       "      <td>None</td>\n",
       "      <td>933.907127</td>\n",
       "      <td>23184.946763</td>\n",
       "      <td>MULTIPOLYGON (((-243242.555 394267.371, -24324...</td>\n",
       "    </tr>\n",
       "    <tr>\n",
       "      <th>1</th>\n",
       "      <td>2023.0</td>\n",
       "      <td>CA</td>\n",
       "      <td>LRA</td>\n",
       "      <td>BTU</td>\n",
       "      <td>KAISER</td>\n",
       "      <td>00010225</td>\n",
       "      <td>{43EBCC88-B3AC-48EB-8EF5-417FE0939CCF}</td>\n",
       "      <td>2023-06-02T00:00:00</td>\n",
       "      <td>2023-06-02T00:00:00</td>\n",
       "      <td>1.0</td>\n",
       "      <td>5.0</td>\n",
       "      <td>1.0</td>\n",
       "      <td>13.602385</td>\n",
       "      <td>None</td>\n",
       "      <td>None</td>\n",
       "      <td>None</td>\n",
       "      <td>None</td>\n",
       "      <td>986.343353</td>\n",
       "      <td>55046.898792</td>\n",
       "      <td>MULTIPOLYGON (((-167826.147 203275.612, -16782...</td>\n",
       "    </tr>\n",
       "    <tr>\n",
       "      <th>2</th>\n",
       "      <td>2023.0</td>\n",
       "      <td>CA</td>\n",
       "      <td>CDF</td>\n",
       "      <td>AEU</td>\n",
       "      <td>JACKSON</td>\n",
       "      <td>00017640</td>\n",
       "      <td>{B64E1355-BF1D-441A-95D0-BC1FBB93483B}</td>\n",
       "      <td>2023-07-01T00:00:00</td>\n",
       "      <td>2023-07-02T00:00:00</td>\n",
       "      <td>1.0</td>\n",
       "      <td>2.0</td>\n",
       "      <td>1.0</td>\n",
       "      <td>27.814465</td>\n",
       "      <td>None</td>\n",
       "      <td>None</td>\n",
       "      <td>None</td>\n",
       "      <td>None</td>\n",
       "      <td>2115.572740</td>\n",
       "      <td>112561.147688</td>\n",
       "      <td>MULTIPOLYGON (((-79176.443 31393.490, -78959.0...</td>\n",
       "    </tr>\n",
       "    <tr>\n",
       "      <th>3</th>\n",
       "      <td>2023.0</td>\n",
       "      <td>CA</td>\n",
       "      <td>CDF</td>\n",
       "      <td>AEU</td>\n",
       "      <td>CARBON</td>\n",
       "      <td>00018821</td>\n",
       "      <td>{CB41DB0A-E4B1-489D-A4EA-738F2CD6DB3B}</td>\n",
       "      <td>2023-07-11T00:00:00</td>\n",
       "      <td>2023-07-11T00:00:00</td>\n",
       "      <td>1.0</td>\n",
       "      <td>9.0</td>\n",
       "      <td>1.0</td>\n",
       "      <td>58.760227</td>\n",
       "      <td>None</td>\n",
       "      <td>None</td>\n",
       "      <td>None</td>\n",
       "      <td>None</td>\n",
       "      <td>1994.866526</td>\n",
       "      <td>237794.210367</td>\n",
       "      <td>MULTIPOLYGON (((-85936.934 47921.886, -85856.4...</td>\n",
       "    </tr>\n",
       "    <tr>\n",
       "      <th>4</th>\n",
       "      <td>2023.0</td>\n",
       "      <td>CA</td>\n",
       "      <td>CDF</td>\n",
       "      <td>AEU</td>\n",
       "      <td>LIBERTY</td>\n",
       "      <td>00018876</td>\n",
       "      <td>{F83F70A4-07A7-40B8-BD51-10CCC1C30D63}</td>\n",
       "      <td>2023-07-11T00:00:00</td>\n",
       "      <td>2023-07-12T00:00:00</td>\n",
       "      <td>1.0</td>\n",
       "      <td>14.0</td>\n",
       "      <td>1.0</td>\n",
       "      <td>70.978996</td>\n",
       "      <td>None</td>\n",
       "      <td>None</td>\n",
       "      <td>None</td>\n",
       "      <td>None</td>\n",
       "      <td>4008.305800</td>\n",
       "      <td>287241.810389</td>\n",
       "      <td>MULTIPOLYGON (((-86427.836 26461.613, -86436.1...</td>\n",
       "    </tr>\n",
       "  </tbody>\n",
       "</table>\n",
       "</div>"
      ],
      "text/plain": [
       "    YEAR_ STATE AGENCY UNIT_ID  FIRE_NAME   INC_NUM  \\\n",
       "0  2023.0    CA    CDF     SKU  WHITWORTH  00004808   \n",
       "1  2023.0    CA    LRA     BTU     KAISER  00010225   \n",
       "2  2023.0    CA    CDF     AEU    JACKSON  00017640   \n",
       "3  2023.0    CA    CDF     AEU     CARBON  00018821   \n",
       "4  2023.0    CA    CDF     AEU    LIBERTY  00018876   \n",
       "\n",
       "                                  IRWINID           ALARM_DATE  \\\n",
       "0  {7985848C-0AC2-4BA4-8F0E-29F778652E61}  2023-06-17T00:00:00   \n",
       "1  {43EBCC88-B3AC-48EB-8EF5-417FE0939CCF}  2023-06-02T00:00:00   \n",
       "2  {B64E1355-BF1D-441A-95D0-BC1FBB93483B}  2023-07-01T00:00:00   \n",
       "3  {CB41DB0A-E4B1-489D-A4EA-738F2CD6DB3B}  2023-07-11T00:00:00   \n",
       "4  {F83F70A4-07A7-40B8-BD51-10CCC1C30D63}  2023-07-11T00:00:00   \n",
       "\n",
       "             CONT_DATE  C_METHOD  CAUSE  OBJECTIVE  GIS_ACRES COMPLEX_NAME  \\\n",
       "0  2023-06-17T00:00:00       1.0    5.0        1.0   5.729125         None   \n",
       "1  2023-06-02T00:00:00       1.0    5.0        1.0  13.602385         None   \n",
       "2  2023-07-02T00:00:00       1.0    2.0        1.0  27.814465         None   \n",
       "3  2023-07-11T00:00:00       1.0    9.0        1.0  58.760227         None   \n",
       "4  2023-07-12T00:00:00       1.0   14.0        1.0  70.978996         None   \n",
       "\n",
       "  COMPLEX_ID COMMENTS FIRE_NUM  Shape_Length     Shape_Area  \\\n",
       "0       None     None     None    933.907127   23184.946763   \n",
       "1       None     None     None    986.343353   55046.898792   \n",
       "2       None     None     None   2115.572740  112561.147688   \n",
       "3       None     None     None   1994.866526  237794.210367   \n",
       "4       None     None     None   4008.305800  287241.810389   \n",
       "\n",
       "                                            geometry  \n",
       "0  MULTIPOLYGON (((-243242.555 394267.371, -24324...  \n",
       "1  MULTIPOLYGON (((-167826.147 203275.612, -16782...  \n",
       "2  MULTIPOLYGON (((-79176.443 31393.490, -78959.0...  \n",
       "3  MULTIPOLYGON (((-85936.934 47921.886, -85856.4...  \n",
       "4  MULTIPOLYGON (((-86427.836 26461.613, -86436.1...  "
      ]
     },
     "execution_count": 3,
     "metadata": {},
     "output_type": "execute_result"
    }
   ],
   "source": [
    "# Display the first 5 rows of the dataframe\n",
    "ca_fires.head()"
   ]
  },
  {
   "cell_type": "code",
   "execution_count": 4,
   "id": "478398ff-7669-4654-b399-93ff42931157",
   "metadata": {},
   "outputs": [
    {
     "data": {
      "text/plain": [
       "YEAR_            float64\n",
       "STATE             object\n",
       "AGENCY            object\n",
       "UNIT_ID           object\n",
       "FIRE_NAME         object\n",
       "INC_NUM           object\n",
       "IRWINID           object\n",
       "ALARM_DATE        object\n",
       "CONT_DATE         object\n",
       "C_METHOD         float64\n",
       "CAUSE            float64\n",
       "OBJECTIVE        float64\n",
       "GIS_ACRES        float64\n",
       "COMPLEX_NAME      object\n",
       "COMPLEX_ID        object\n",
       "COMMENTS          object\n",
       "FIRE_NUM          object\n",
       "Shape_Length     float64\n",
       "Shape_Area       float64\n",
       "geometry        geometry\n",
       "dtype: object"
      ]
     },
     "execution_count": 4,
     "metadata": {},
     "output_type": "execute_result"
    }
   ],
   "source": [
    "# Determine the data types of the columns\n",
    "ca_fires.dtypes"
   ]
  },
  {
   "cell_type": "code",
   "execution_count": 5,
   "id": "a6246460-322a-434f-8397-0dda114e978f",
   "metadata": {
    "tags": []
   },
   "outputs": [
    {
     "data": {
      "text/plain": [
       "(22261, 20)"
      ]
     },
     "execution_count": 5,
     "metadata": {},
     "output_type": "execute_result"
    }
   ],
   "source": [
    "# Determine the size of the data frame\n",
    "ca_fires.shape"
   ]
  },
  {
   "cell_type": "code",
   "execution_count": 6,
   "id": "388c60c5-3cc6-4ae9-b04f-816b563859e3",
   "metadata": {},
   "outputs": [
    {
     "name": "stdout",
     "output_type": "stream",
     "text": [
      "CRS: epsg:3310\n"
     ]
    }
   ],
   "source": [
    "# Determine the CRS \n",
    "print('CRS:', ca_fires.crs)"
   ]
  },
  {
   "cell_type": "code",
   "execution_count": 7,
   "id": "f3b62597-1c7f-4fa0-b6ad-948baf85c0b2",
   "metadata": {},
   "outputs": [
    {
     "name": "stdout",
     "output_type": "stream",
     "text": [
      "Is the CRS projected? True\n",
      "Is the CRS geographic? False\n"
     ]
    }
   ],
   "source": [
    "# Determine whether the data is geographic or projected\n",
    "print('Is the CRS projected?', ca_fires.crs.is_projected)\n",
    "print('Is the CRS geographic?', ca_fires.crs.is_geographic)"
   ]
  },
  {
   "cell_type": "markdown",
   "id": "371f9e8f-d8d5-42d7-80ab-82f4d064068f",
   "metadata": {},
   "source": [
    "## 4. Data Exploration Summary\n",
    "\n",
    "The `ca_fires` dataframe contains 22,261 rows and 20 columns. The column containing spatial information is labeled `geometry`. The CRS of the data is EPSG:3310. The CRS of the data is projected, not geographic."
   ]
  },
  {
   "cell_type": "markdown",
   "id": "2f9c915f-576b-4761-b089-750fe03fdf02",
   "metadata": {},
   "source": [
    "## 5. Thomas Fire Boundary Data Selection"
   ]
  },
  {
   "cell_type": "code",
   "execution_count": 8,
   "id": "48456249-df65-419e-88a6-0dcfbe125756",
   "metadata": {
    "tags": []
   },
   "outputs": [],
   "source": [
    "# Select Thomas Fire perimeter boundaries\n",
    "thomas_fire = ca_fires[(ca_fires.YEAR_ == 2017.0) & (ca_fires.FIRE_NAME == 'THOMAS')]"
   ]
  },
  {
   "cell_type": "markdown",
   "id": "9d1614af-5bbf-4238-9266-78753373b3f9",
   "metadata": {},
   "source": [
    "## 6. Save Thomas Fire Boundary"
   ]
  },
  {
   "cell_type": "code",
   "execution_count": 9,
   "id": "addf748b-9ea8-4256-a902-d6fa2411d7d5",
   "metadata": {
    "tags": []
   },
   "outputs": [
    {
     "name": "stderr",
     "output_type": "stream",
     "text": [
      "/tmp/ipykernel_3716509/2109970276.py:2: UserWarning: Column names longer than 10 characters will be truncated when saved to ESRI Shapefile.\n",
      "  thomas_fire.to_file(os.path.join('data', 'thomas_fire.shp'))\n"
     ]
    }
   ],
   "source": [
    "# Save the Thomas Fire boundary as a shapefile\n",
    "thomas_fire.to_file(os.path.join('data', 'thomas_fire.shp'))"
   ]
  },
  {
   "cell_type": "markdown",
   "id": "1848b02e-2554-46d6-acff-b430ad2837f5",
   "metadata": {},
   "source": [
    "## 7. Reasoning for Selecting Shapefile Format\n",
    "\n",
    "I chose a shapefile because I am familiar with working with them, and they easily carry over other attribute information along with the spatial data. In addition, they work across many data science platforms."
   ]
  }
 ],
 "metadata": {
  "kernelspec": {
   "display_name": "Anaconda 3 (Base)",
   "language": "python",
   "name": "base"
  },
  "language_info": {
   "codemirror_mode": {
    "name": "ipython",
    "version": 3
   },
   "file_extension": ".py",
   "mimetype": "text/x-python",
   "name": "python",
   "nbconvert_exporter": "python",
   "pygments_lexer": "ipython3",
   "version": "3.9.13"
  }
 },
 "nbformat": 4,
 "nbformat_minor": 5
}
